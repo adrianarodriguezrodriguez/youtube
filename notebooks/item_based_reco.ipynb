{
 "cells": [
  {
   "attachments": {},
   "cell_type": "markdown",
   "metadata": {},
   "source": [
    "# ITEM-BASED METHODS"
   ]
  },
  {
   "cell_type": "code",
   "execution_count": 2,
   "metadata": {},
   "outputs": [],
   "source": [
    "%run ../src/plots.py"
   ]
  },
  {
   "cell_type": "code",
   "execution_count": 3,
   "metadata": {},
   "outputs": [],
   "source": [
    "%run ../src/utils.py"
   ]
  },
  {
   "cell_type": "code",
   "execution_count": 4,
   "metadata": {},
   "outputs": [],
   "source": [
    "set_seed()"
   ]
  },
  {
   "cell_type": "code",
   "execution_count": 5,
   "metadata": {},
   "outputs": [
    {
     "name": "stdout",
     "output_type": "stream",
     "text": [
      "Warning: Looks like you're using an outdated `kagglehub` version, please consider updating (latest version: 0.3.11)\n"
     ]
    }
   ],
   "source": [
    "data = initialize_data()"
   ]
  },
  {
   "cell_type": "code",
   "execution_count": 6,
   "metadata": {},
   "outputs": [],
   "source": [
    "data = calculate_sentiment(data)"
   ]
  },
  {
   "attachments": {},
   "cell_type": "markdown",
   "metadata": {},
   "source": [
    "\n",
    "Recommend similar channels based on the videos they upload and how much engagement they get"
   ]
  },
  {
   "cell_type": "code",
   "execution_count": 7,
   "metadata": {},
   "outputs": [
    {
     "name": "stdout",
     "output_type": "stream",
     "text": [
      "rating_threshold = 1.0\n",
      "exclude_unknowns = True\n"
     ]
    },
    {
     "name": "stderr",
     "output_type": "stream",
     "text": [
      "/home/adriana/anaconda3/envs/bigdata/lib/python3.10/site-packages/cornac/data/dataset.py:335: UserWarning: 314178 duplicated observations are removed!\n",
      "  warnings.warn(\"%d duplicated observations are removed!\" % dup_count)\n",
      "/home/adriana/anaconda3/envs/bigdata/lib/python3.10/site-packages/cornac/data/dataset.py:335: UserWarning: 24328 duplicated observations are removed!\n",
      "  warnings.warn(\"%d duplicated observations are removed!\" % dup_count)\n"
     ]
    },
    {
     "name": "stdout",
     "output_type": "stream",
     "text": [
      "---\n",
      "Training data:\n",
      "Number of users = 12513\n",
      "Number of items = 45787\n",
      "Number of ratings = 45822\n",
      "Max rating = 833836.0\n",
      "Min rating = 0.2\n",
      "Global mean = 59.3\n",
      "---\n",
      "Test data:\n",
      "Number of users = 12513\n",
      "Number of items = 45787\n",
      "Number of ratings = 13921\n",
      "Number of unknown users = 0\n",
      "Number of unknown items = 0\n",
      "---\n",
      "Total users = 12513\n",
      "Total items = 45787\n",
      "\n",
      "[ItemKNN-Cosine] Training started!\n"
     ]
    },
    {
     "name": "stderr",
     "output_type": "stream",
     "text": [
      "100%|██████████| 45787/45787 [00:01<00:00, 28141.83it/s]\n"
     ]
    },
    {
     "name": "stdout",
     "output_type": "stream",
     "text": [
      "\n",
      "[ItemKNN-Cosine] Evaluation started!\n"
     ]
    },
    {
     "name": "stderr",
     "output_type": "stream",
     "text": [
      "Rating: 100%|██████████| 13921/13921 [00:00<00:00, 20064.23it/s]\n"
     ]
    },
    {
     "name": "stdout",
     "output_type": "stream",
     "text": [
      "\n",
      "[ItemKNN-Pearson] Training started!\n"
     ]
    },
    {
     "name": "stderr",
     "output_type": "stream",
     "text": [
      "100%|██████████| 45787/45787 [00:01<00:00, 29896.28it/s]\n"
     ]
    },
    {
     "name": "stdout",
     "output_type": "stream",
     "text": [
      "\n",
      "[ItemKNN-Pearson] Evaluation started!\n"
     ]
    },
    {
     "name": "stderr",
     "output_type": "stream",
     "text": [
      "Rating: 100%|██████████| 13921/13921 [00:00<00:00, 20446.42it/s]\n"
     ]
    },
    {
     "name": "stdout",
     "output_type": "stream",
     "text": [
      "\n",
      "[ItemKNN-Pearson-MC] Training started!\n"
     ]
    },
    {
     "name": "stderr",
     "output_type": "stream",
     "text": [
      "100%|██████████| 45787/45787 [00:01<00:00, 30080.09it/s]\n"
     ]
    },
    {
     "name": "stdout",
     "output_type": "stream",
     "text": [
      "\n",
      "[ItemKNN-Pearson-MC] Evaluation started!\n"
     ]
    },
    {
     "name": "stderr",
     "output_type": "stream",
     "text": [
      "Rating: 100%|██████████| 13921/13921 [00:00<00:00, 20478.89it/s]\n"
     ]
    },
    {
     "name": "stdout",
     "output_type": "stream",
     "text": [
      "\n",
      "[ItemKNN-AdjustedCosine] Training started!\n"
     ]
    },
    {
     "name": "stderr",
     "output_type": "stream",
     "text": [
      "100%|██████████| 45787/45787 [00:01<00:00, 30349.08it/s]\n"
     ]
    },
    {
     "name": "stdout",
     "output_type": "stream",
     "text": [
      "\n",
      "[ItemKNN-AdjustedCosine] Evaluation started!\n"
     ]
    },
    {
     "name": "stderr",
     "output_type": "stream",
     "text": [
      "Rating: 100%|██████████| 13921/13921 [00:00<00:00, 19137.16it/s]\n"
     ]
    },
    {
     "name": "stdout",
     "output_type": "stream",
     "text": [
      "\n",
      "TEST:\n",
      "...\n",
      "                       |     RMSE | Train (s) | Test (s)\n",
      "---------------------- + -------- + --------- + --------\n",
      "ItemKNN-Cosine         | 101.4168 |   11.3422 |   0.8899\n",
      "ItemKNN-Pearson        | 101.4168 |    7.7306 |   0.9230\n",
      "ItemKNN-Pearson-MC     | 101.4168 |    7.7058 |   0.8884\n",
      "ItemKNN-AdjustedCosine |  63.0258 |    7.6560 |   0.8937\n",
      "\n",
      "\n",
      " Channels present in the recommendation model (based on the trained videos):\n",
      "- winkyonline\n",
      "- Zimcelebs Tv\n",
      "- SaintFloew\n",
      "- Jah Prayzah\n",
      "- KendrickLamarVEVO\n",
      "- IShowSpeed\n",
      "- CassperNyovestVEVO\n",
      "- VybzKartelVEVO\n",
      "- TrevorDongoVEVO\n",
      "- Zack D. Films\n",
      "- Jack Harlow\n",
      "- Shandesh Music\n",
      "- Alan Roblox\n",
      "- توبز TOPZ\n",
      "- abu_abeer16\n",
      "- دروس أونلاين\n",
      "- POWR eSports | باور\n",
      "- 𝐍𝐢𝐳𝐚𝐫 | نزار\n",
      "- Erza3 - ارزع \n",
      "- مصطفى GAME OVER\n",
      "\n",
      "Total unique channels in the model: 12540\n"
     ]
    }
   ],
   "source": [
    "iknn_pearson_mc = create_experiment(data)"
   ]
  },
  {
   "attachments": {},
   "cell_type": "markdown",
   "metadata": {},
   "source": [
    "1.Select the videos with the most engagement.\n",
    "\n",
    "2.Treat channels as \"users\" and videos as \"items.\"\n",
    "\n",
    "3.train several models to see which one can recommend similar videos (or channels) based on the content they upload.\n",
    "\n",
    "4.Evaluate performance with metrics."
   ]
  },
  {
   "cell_type": "code",
   "execution_count": 8,
   "metadata": {},
   "outputs": [
    {
     "name": "stdout",
     "output_type": "stream",
     "text": [
      "\n",
      " TOP 10 VIDEOS RECOMMENDED for the video 'JISOO':\n",
      "1. MrLololoshka (Роман Фильченков) — (video: 'Lp. Тринадцать Огней #71 ЯРОСТЬ БОГОВ [Одиночка] • Майнкрафт') — score: 0.25\n",
      "2. Official Maima Music — (video: 'KELITU-Maima (official audio)') — score: 0.25\n",
      "3. Luca Mastrangelo — (video: '-6 E -11! I FIDANZATINI IBERNATI! CASSANO GUARDA INZAGHI E IMPARA! LAZIO-INTER 0-6') — score: 0.25\n",
      "4. Surry — (video: 'La mia prima settimana nel Principato di Monaco - Vlog') — score: 0.25\n",
      "5. Black Sherif Music — (video: 'Black Sherif - Kilos Milos (Official Audio)') — score: 0.25\n",
      "6. Kirti Rawat — (video: 'Dream proposal, Finally said yes ❤️') — score: 0.25\n",
      "7. BiloBilo — (video: 'ABDUL vs LOZAN Das Duell der GIGANTEN!🔥💥 Bilo reagiert') — score: 0.25\n",
      "8. Zalmonz — (video: 'มายคราฟแต่ผมเป็น \"เอนเดอร์แมน\" จะวาร์ปไปหาคุณ!?') — score: 0.25\n",
      "9. Бискас — (video: 'вернуть Врискаса 📗 | WICSUR #shorts') — score: 0.25\n",
      "10. bri dominguez — (video: 'USE UN CELULAR DE TAPITA POR 24 HORAS') — score: 0.25\n"
     ]
    }
   ],
   "source": [
    "recommend_videos_item_based(data, iknn_pearson_mc)"
   ]
  }
 ],
 "metadata": {
  "kernelspec": {
   "display_name": "bigdata",
   "language": "python",
   "name": "python3"
  },
  "language_info": {
   "codemirror_mode": {
    "name": "ipython",
    "version": 3
   },
   "file_extension": ".py",
   "mimetype": "text/x-python",
   "name": "python",
   "nbconvert_exporter": "python",
   "pygments_lexer": "ipython3",
   "version": "3.10.16"
  },
  "orig_nbformat": 4
 },
 "nbformat": 4,
 "nbformat_minor": 2
}
