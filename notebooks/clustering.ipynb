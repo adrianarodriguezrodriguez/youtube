{
 "cells": [
  {
   "cell_type": "code",
   "execution_count": null,
   "metadata": {},
   "outputs": [],
   "source": [
    "from ..src import utils\n",
    "\n",
    "from sklearn.feature_extraction.text import TfidfVectorizer\n",
    "import pandas as pd\n",
    "import seaborn as sns\n",
    "import matplotlib.pyplot as plt\n",
    "from sklearn.cluster import KMeans\n",
    "from sklearn.metrics.pairwise import cosine_similarity\n",
    "import random"
   ]
  },
  {
   "cell_type": "code",
   "execution_count": null,
   "metadata": {},
   "outputs": [],
   "source": [
    "data = utils.initialize_data()\n",
    "\n",
    "# Calculate Sentiment Score\n",
    "data = utils.calculate_sentiment(data)\n",
    "\n",
    "data_df_tf = utils.vectorize_df(data)\n",
    "\n",
    "num_queries = 5\n",
    "\n",
    "features, labels = utils.clustering_with_neighbors(data_df_tf, data, user_sentiment=\"positive\", num_queries=num_queries)"
   ]
  },
  {
   "cell_type": "code",
   "execution_count": null,
   "metadata": {},
   "outputs": [],
   "source": [
    "# We compute the Silhouette Score and plot it\n",
    "silhouette_score = utils.sil_score(features, labels, num_queries)"
   ]
  },
  {
   "cell_type": "code",
   "execution_count": null,
   "metadata": {},
   "outputs": [],
   "source": [
    "# Aqui falta la grafica para visualizar los clusters"
   ]
  },
  {
   "cell_type": "code",
   "execution_count": null,
   "metadata": {},
   "outputs": [],
   "source": [
    "# We group by channel and join tags from all the videos on the channel\n",
    "tags_por_canal = data.groupby(\"channel_name\")[\"video_tags\"].apply(lambda x: ' '.join(str(v) for v in x.dropna()))\n",
    "\n",
    "# TF-IDF + KMeans\n",
    "## converts tags to numbers so you can do math with them. TF-IDF gives more weight to \"important\" words within the channel\n",
    "tfidf = TfidfVectorizer()\n",
    "X = tfidf.fit_transform(tags_por_canal)\n",
    "km = KMeans(n_clusters=5, random_state=42).fit(X)\n",
    "\n",
    "# Asignamos clusters\n",
    "canales_cluster = pd.DataFrame({\n",
    "    \"channel_name\": tags_por_canal.index,\n",
    "    \"cluster\": km.labels_\n",
    "})\n",
    "\n",
    "sns.countplot(data=canales_cluster, x=\"cluster\")\n",
    "plt.title(\"Number of channels per cluster\")\n",
    "plt.show()\n"
   ]
  },
  {
   "cell_type": "code",
   "execution_count": null,
   "metadata": {},
   "outputs": [],
   "source": [
    "%run plots.py "
   ]
  },
  {
   "cell_type": "code",
   "execution_count": null,
   "metadata": {},
   "outputs": [],
   "source": [
    "graph_clusters()"
   ]
  },
  {
   "cell_type": "code",
   "execution_count": null,
   "metadata": {},
   "outputs": [],
   "source": [
    "# Show the type of tags for each cluster\n",
    "for cluster_num in range(5):\n",
    "    print(f\"\\nCluster {cluster_num}:\")\n",
    "    # We get the channels that belong to this cluster\n",
    "    cluster_channels = canales_cluster[canales_cluster[\"cluster\"] == cluster_num]\n",
    "    # We get the tags from those channels\n",
    "    cluster_tags = tags_por_canal[cluster_channels[\"channel_name\"]].tolist()\n",
    "    # We join all the tags in a list and display them\n",
    "    all_tags = ' '.join(cluster_tags).split()\n",
    "    #We get the most frequent tags in this cluster\n",
    "    tags_freq = pd.Series(all_tags).value_counts().head(10)\n",
    "    print(tags_freq)"
   ]
  },
  {
   "attachments": {},
   "cell_type": "markdown",
   "metadata": {},
   "source": [
    "Cluster 0: Sports-related videos with international creators like IShowSpeed and Squeezie, featuring some Arabic content.\n",
    "\n",
    "Cluster 1: Viral short videos focused on humor, TikTok trends, and general entertainment.\n",
    "\n",
    "Cluster 2: Spanish-language football content, mainly about Real Madrid and player Fede Valverde.\n",
    "\n",
    "Cluster 3: Minecraft and animation-themed gaming content, with multilingual influence including Arabic.\n",
    "\n",
    "Cluster 4: International movies and TV dramas, especially Nigerian films and popular \"natok\" series."
   ]
  },
  {
   "cell_type": "code",
   "execution_count": null,
   "metadata": {},
   "outputs": [],
   "source": [
    "#  We select the target cluster (where there are more channels)\n",
    "cluster_objetivo = 0\n",
    "\n",
    "# We filter the channels that belong to that cluster\n",
    "canales_en_cluster = canales_cluster[canales_cluster[\"cluster\"] == cluster_objetivo]\n",
    "\n",
    "#  We select a random channel from that cluster\n",
    "canal_elegido = random.choice(canales_en_cluster[\"channel_name\"].values)\n",
    "print(f\"Channel automatically chosen from the cluster {cluster_objetivo}: '{canal_elegido}'\\n\")\n",
    "\n",
    "# TF-IDF of the cluster channel tags\n",
    "tags_cluster = tags_por_canal.loc[canales_en_cluster[\"channel_name\"]]\n",
    "tfidf = TfidfVectorizer()\n",
    "X_cluster = tfidf.fit_transform(tags_cluster)\n",
    "\n",
    "# Index of the chosen channel\n",
    "index_canal = tags_cluster.index.get_loc(canal_elegido)\n",
    "\n",
    "# Cosine similarity between the channel and all others\n",
    "similitudes = cosine_similarity(X_cluster[index_canal], X_cluster).flatten()\n",
    "\n",
    "# \n",
    "TOPK = 10\n",
    "similares_idx = similitudes.argsort()[::-1][1:TOPK+1]\n",
    "canales_similares = tags_cluster.index[similares_idx]\n",
    "\n",
    "\n",
    "print(f\"Channels similars to '{canal_elegido}' in the cluster {cluster_objetivo}:\\n\")\n",
    "for i, canal in enumerate(canales_similares):\n",
    "    print(f\"{i+1}. {canal} (similarity: {similitudes[similares_idx[i]]:.2f})\")"
   ]
  },
  {
   "attachments": {},
   "cell_type": "markdown",
   "metadata": {},
   "source": [
    "The system recommends channels that use similar tags in their videos.\n",
    "It's a content-based approach, using video tags as the channel description.\n",
    "\n",
    "This compares how similar two channels are based on their tags.Using TF-IDF that stands for \"Term Frequency - Inverse Document Frequency.\"\n",
    "\n",
    "It is used to weight the most important words in each channel.\n",
    "\n",
    "-If two channels use similar tags with similar frequencies, they will have a similarity close to 1.0.\n",
    "\n",
    "-If they share almost no tags, the similarity will be close to 0.0."
   ]
  }
 ],
 "metadata": {
  "language_info": {
   "name": "python"
  },
  "orig_nbformat": 4
 },
 "nbformat": 4,
 "nbformat_minor": 2
}
