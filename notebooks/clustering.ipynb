{
 "cells": [
  {
   "attachments": {},
   "cell_type": "markdown",
   "metadata": {},
   "source": [
    "# Clustering"
   ]
  },
  {
   "cell_type": "code",
   "execution_count": 17,
   "metadata": {},
   "outputs": [],
   "source": [
    "from sklearn.metrics import silhouette_score"
   ]
  },
  {
   "cell_type": "code",
   "execution_count": 18,
   "metadata": {},
   "outputs": [],
   "source": [
    "%run ../src/plots.py"
   ]
  },
  {
   "cell_type": "code",
   "execution_count": 19,
   "metadata": {},
   "outputs": [],
   "source": [
    "%run ../src/utils.py"
   ]
  },
  {
   "cell_type": "code",
   "execution_count": 20,
   "metadata": {},
   "outputs": [],
   "source": [
    "set_seed()"
   ]
  },
  {
   "cell_type": "code",
   "execution_count": 21,
   "metadata": {},
   "outputs": [
    {
     "name": "stdout",
     "output_type": "stream",
     "text": [
      "Warning: Looks like you're using an outdated `kagglehub` version, please consider updating (latest version: 0.3.11)\n"
     ]
    }
   ],
   "source": [
    "data = initialize_data()"
   ]
  },
  {
   "cell_type": "code",
   "execution_count": 22,
   "metadata": {},
   "outputs": [],
   "source": [
    "# Calculate Sentiment Score\n",
    "data = calculate_sentiment(data)"
   ]
  },
  {
   "cell_type": "code",
   "execution_count": 23,
   "metadata": {},
   "outputs": [],
   "source": [
    "data_df_tf = vectorize_df(data)"
   ]
  },
  {
   "cell_type": "code",
   "execution_count": 24,
   "metadata": {},
   "outputs": [
    {
     "data": {
      "text/html": [
       "<div>\n",
       "<style scoped>\n",
       "    .dataframe tbody tr th:only-of-type {\n",
       "        vertical-align: middle;\n",
       "    }\n",
       "\n",
       "    .dataframe tbody tr th {\n",
       "        vertical-align: top;\n",
       "    }\n",
       "\n",
       "    .dataframe thead th {\n",
       "        text-align: right;\n",
       "    }\n",
       "</style>\n",
       "<table border=\"1\" class=\"dataframe\">\n",
       "  <thead>\n",
       "    <tr style=\"text-align: right;\">\n",
       "      <th></th>\n",
       "      <th>title</th>\n",
       "      <th>feature_0</th>\n",
       "      <th>feature_1</th>\n",
       "      <th>feature_2</th>\n",
       "      <th>feature_3</th>\n",
       "      <th>feature_4</th>\n",
       "      <th>feature_5</th>\n",
       "      <th>feature_6</th>\n",
       "      <th>feature_7</th>\n",
       "      <th>feature_8</th>\n",
       "      <th>...</th>\n",
       "      <th>feature_4990</th>\n",
       "      <th>feature_4991</th>\n",
       "      <th>feature_4992</th>\n",
       "      <th>feature_4993</th>\n",
       "      <th>feature_4994</th>\n",
       "      <th>feature_4995</th>\n",
       "      <th>feature_4996</th>\n",
       "      <th>feature_4997</th>\n",
       "      <th>feature_4998</th>\n",
       "      <th>feature_4999</th>\n",
       "    </tr>\n",
       "  </thead>\n",
       "  <tbody>\n",
       "    <tr>\n",
       "      <th>0</th>\n",
       "      <td>Winky D - Propaganda (Official Video)</td>\n",
       "      <td>0</td>\n",
       "      <td>0</td>\n",
       "      <td>0</td>\n",
       "      <td>0</td>\n",
       "      <td>0</td>\n",
       "      <td>0</td>\n",
       "      <td>0</td>\n",
       "      <td>0</td>\n",
       "      <td>0</td>\n",
       "      <td>...</td>\n",
       "      <td>0</td>\n",
       "      <td>0</td>\n",
       "      <td>0</td>\n",
       "      <td>0</td>\n",
       "      <td>0</td>\n",
       "      <td>0</td>\n",
       "      <td>0</td>\n",
       "      <td>0</td>\n",
       "      <td>0</td>\n",
       "      <td>0</td>\n",
       "    </tr>\n",
       "    <tr>\n",
       "      <th>1</th>\n",
       "      <td>Donator Calvins - Door Ratovharwa (Mjolo Offic...</td>\n",
       "      <td>0</td>\n",
       "      <td>0</td>\n",
       "      <td>0</td>\n",
       "      <td>0</td>\n",
       "      <td>0</td>\n",
       "      <td>0</td>\n",
       "      <td>0</td>\n",
       "      <td>0</td>\n",
       "      <td>0</td>\n",
       "      <td>...</td>\n",
       "      <td>0</td>\n",
       "      <td>0</td>\n",
       "      <td>0</td>\n",
       "      <td>0</td>\n",
       "      <td>0</td>\n",
       "      <td>0</td>\n",
       "      <td>0</td>\n",
       "      <td>0</td>\n",
       "      <td>0</td>\n",
       "      <td>0</td>\n",
       "    </tr>\n",
       "    <tr>\n",
       "      <th>2</th>\n",
       "      <td>SaintFloew - Fofa Fofa ft. Nutty O (Official M...</td>\n",
       "      <td>0</td>\n",
       "      <td>0</td>\n",
       "      <td>0</td>\n",
       "      <td>0</td>\n",
       "      <td>0</td>\n",
       "      <td>0</td>\n",
       "      <td>0</td>\n",
       "      <td>0</td>\n",
       "      <td>0</td>\n",
       "      <td>...</td>\n",
       "      <td>0</td>\n",
       "      <td>0</td>\n",
       "      <td>0</td>\n",
       "      <td>0</td>\n",
       "      <td>0</td>\n",
       "      <td>0</td>\n",
       "      <td>0</td>\n",
       "      <td>0</td>\n",
       "      <td>0</td>\n",
       "      <td>0</td>\n",
       "    </tr>\n",
       "    <tr>\n",
       "      <th>3</th>\n",
       "      <td>Zimbabwe protest I Protests against term exten...</td>\n",
       "      <td>0</td>\n",
       "      <td>0</td>\n",
       "      <td>0</td>\n",
       "      <td>0</td>\n",
       "      <td>0</td>\n",
       "      <td>0</td>\n",
       "      <td>0</td>\n",
       "      <td>0</td>\n",
       "      <td>0</td>\n",
       "      <td>...</td>\n",
       "      <td>0</td>\n",
       "      <td>0</td>\n",
       "      <td>0</td>\n",
       "      <td>0</td>\n",
       "      <td>0</td>\n",
       "      <td>0</td>\n",
       "      <td>0</td>\n",
       "      <td>0</td>\n",
       "      <td>0</td>\n",
       "      <td>0</td>\n",
       "    </tr>\n",
       "    <tr>\n",
       "      <th>4</th>\n",
       "      <td>Two Impending decisions in Zimbabwe - prophecy</td>\n",
       "      <td>0</td>\n",
       "      <td>0</td>\n",
       "      <td>0</td>\n",
       "      <td>0</td>\n",
       "      <td>0</td>\n",
       "      <td>0</td>\n",
       "      <td>0</td>\n",
       "      <td>0</td>\n",
       "      <td>0</td>\n",
       "      <td>...</td>\n",
       "      <td>0</td>\n",
       "      <td>0</td>\n",
       "      <td>0</td>\n",
       "      <td>0</td>\n",
       "      <td>0</td>\n",
       "      <td>0</td>\n",
       "      <td>0</td>\n",
       "      <td>0</td>\n",
       "      <td>0</td>\n",
       "      <td>0</td>\n",
       "    </tr>\n",
       "  </tbody>\n",
       "</table>\n",
       "<p>5 rows × 5001 columns</p>\n",
       "</div>"
      ],
      "text/plain": [
       "                                               title  feature_0  feature_1  \\\n",
       "0              Winky D - Propaganda (Official Video)          0          0   \n",
       "1  Donator Calvins - Door Ratovharwa (Mjolo Offic...          0          0   \n",
       "2  SaintFloew - Fofa Fofa ft. Nutty O (Official M...          0          0   \n",
       "3  Zimbabwe protest I Protests against term exten...          0          0   \n",
       "4     Two Impending decisions in Zimbabwe - prophecy          0          0   \n",
       "\n",
       "   feature_2  feature_3  feature_4  feature_5  feature_6  feature_7  \\\n",
       "0          0          0          0          0          0          0   \n",
       "1          0          0          0          0          0          0   \n",
       "2          0          0          0          0          0          0   \n",
       "3          0          0          0          0          0          0   \n",
       "4          0          0          0          0          0          0   \n",
       "\n",
       "   feature_8  ...  feature_4990  feature_4991  feature_4992  feature_4993  \\\n",
       "0          0  ...             0             0             0             0   \n",
       "1          0  ...             0             0             0             0   \n",
       "2          0  ...             0             0             0             0   \n",
       "3          0  ...             0             0             0             0   \n",
       "4          0  ...             0             0             0             0   \n",
       "\n",
       "   feature_4994  feature_4995  feature_4996  feature_4997  feature_4998  \\\n",
       "0             0             0             0             0             0   \n",
       "1             0             0             0             0             0   \n",
       "2             0             0             0             0             0   \n",
       "3             0             0             0             0             0   \n",
       "4             0             0             0             0             0   \n",
       "\n",
       "   feature_4999  \n",
       "0             0  \n",
       "1             0  \n",
       "2             0  \n",
       "3             0  \n",
       "4             0  \n",
       "\n",
       "[5 rows x 5001 columns]"
      ]
     },
     "execution_count": 24,
     "metadata": {},
     "output_type": "execute_result"
    }
   ],
   "source": [
    "data_df_tf.head()"
   ]
  },
  {
   "attachments": {},
   "cell_type": "markdown",
   "metadata": {},
   "source": [
    "The value in each box indicates how many times words (or combinations of words) have appeared that, after hashing, fell into that position in the vector.\n",
    "\n",
    "A feature is a numerical representation of a property of the text that will be used as input for a machine learning model.\n"
   ]
  },
  {
   "cell_type": "code",
   "execution_count": 25,
   "metadata": {},
   "outputs": [],
   "source": [
    "num_queries = 3\n",
    "\n",
    "features, labels = clustering_with_neighbors(data_df_tf, data, user_sentiment=\"positive\", num_queries=num_queries)"
   ]
  },
  {
   "cell_type": "code",
   "execution_count": 26,
   "metadata": {},
   "outputs": [],
   "source": [
    "# We compute the Silhouette Score and plot it\n",
    "silhouette_score = silhouette_score(features, labels)"
   ]
  },
  {
   "cell_type": "code",
   "execution_count": 27,
   "metadata": {},
   "outputs": [
    {
     "data": {
      "image/png": "[encoded data removed]",
      "text/plain": [
       "<Figure size 800x600 with 1 Axes>"
      ]
     },
     "metadata": {},
     "output_type": "display_data"
    },
    {
     "data": {
      "text/plain": [
       "0.17138684450831992"
      ]
     },
     "execution_count": 27,
     "metadata": {},
     "output_type": "execute_result"
    }
   ],
   "source": [
    "sil_score_plot(silhouette_score, features, labels, 3)"
   ]
  },
  {
   "attachments": {},
   "cell_type": "markdown",
   "metadata": {},
   "source": [
    "1.Filters by sentiment\n",
    "\n",
    "2.Use HashingVectorizer to find similarities in the tags.\n",
    "\n",
    "3.Similar videos ->Nearest Neighbors\n"
   ]
  },
  {
   "cell_type": "code",
   "execution_count": 28,
   "metadata": {},
   "outputs": [],
   "source": [
    "canales_cluster, tags_por_canal = channel_based_cluster(data)"
   ]
  },
  {
   "cell_type": "code",
   "execution_count": null,
   "metadata": {},
   "outputs": [],
   "source": [
    "canales_clusters(canales_cluster)"
   ]
  },
  {
   "cell_type": "code",
   "execution_count": null,
   "metadata": {},
   "outputs": [],
   "source": [
    "show_cluster_tags(canales_cluster, tags_por_canal)"
   ]
  },
  {
   "attachments": {},
   "cell_type": "markdown",
   "metadata": {},
   "source": [
    "Cluster 0: Sports-related videos with international creators like IShowSpeed and Squeezie, featuring some Arabic content.\n",
    "\n",
    "Cluster 1: Viral short videos focused on humor, TikTok trends, and general entertainment.\n",
    "\n",
    "Cluster 2: Spanish-language football content, mainly about Real Madrid and player Fede Valverde.\n",
    "\n",
    "Cluster 3: Minecraft and animation-themed gaming content, with multilingual influence including Arabic.\n",
    "\n",
    "Cluster 4: International movies and TV dramas, especially Nigerian films and popular \"natok\" series."
   ]
  },
  {
   "cell_type": "code",
   "execution_count": 31,
   "metadata": {},
   "outputs": [
    {
     "ename": "TypeError",
     "evalue": "string indices must be integers",
     "output_type": "error",
     "traceback": [
      "\u001b[0;31m---------------------------------------------------------------------------\u001b[0m",
      "\u001b[0;31mTypeError\u001b[0m                                 Traceback (most recent call last)",
      "Cell \u001b[0;32mIn[31], line 1\u001b[0m\n\u001b[0;32m----> 1\u001b[0m print_reco_target_cluster(canales_cluster, tags_por_canal, \u001b[39m0\u001b[39;49m)\n",
      "File \u001b[0;32m~/myproject/YOUTUBE_NUEVO/youtube/src/utils.py:228\u001b[0m, in \u001b[0;36mprint_reco_target_cluster\u001b[0;34m(canales_cluster, tags_por_canal, target_cluster)\u001b[0m\n\u001b[1;32m    225\u001b[0m cluster_objetivo \u001b[39m=\u001b[39m target_cluster\n\u001b[1;32m    227\u001b[0m \u001b[39m# We filter the channels that belong to that cluster\u001b[39;00m\n\u001b[0;32m--> 228\u001b[0m canales_en_cluster \u001b[39m=\u001b[39m canales_cluster[canales_cluster[\u001b[39m\"\u001b[39;49m\u001b[39mcluster\u001b[39;49m\u001b[39m\"\u001b[39;49m] \u001b[39m==\u001b[39m cluster_objetivo]\n\u001b[1;32m    230\u001b[0m \u001b[39m#  We select a random channel from that cluster\u001b[39;00m\n\u001b[1;32m    231\u001b[0m canal_elegido \u001b[39m=\u001b[39m random\u001b[39m.\u001b[39mchoice(canales_en_cluster[\u001b[39m\"\u001b[39m\u001b[39mchannel_name\u001b[39m\u001b[39m\"\u001b[39m]\u001b[39m.\u001b[39mvalues)\n",
      "\u001b[0;31mTypeError\u001b[0m: string indices must be integers"
     ]
    }
   ],
   "source": [
    "print_reco_target_cluster(canales_cluster, tags_por_canal, 0)"
   ]
  },
  {
   "attachments": {},
   "cell_type": "markdown",
   "metadata": {},
   "source": [
    "The system recommends channels that use similar tags in their videos.\n",
    "It's a content-based approach, using video tags as the channel description.\n",
    "\n",
    "This compares how similar two channels are based on their tags.Using TF-IDF that stands for \"Term Frequency - Inverse Document Frequency.\"\n",
    "\n",
    "It is used to weight the most important words in each channel.\n",
    "\n",
    "-If two channels use similar tags with similar frequencies, they will have a similarity close to 1.0.\n",
    "\n",
    "-If they share almost no tags, the similarity will be close to 0.0."
   ]
  },
  {
   "attachments": {},
   "cell_type": "markdown",
   "metadata": {},
   "source": [
    "# Thematic cluster within the country"
   ]
  },
  {
   "cell_type": "code",
   "execution_count": null,
   "metadata": {},
   "outputs": [],
   "source": [
    "us_canales = thematic_clusters(data, canales_cluster)\n",
    "\n",
    "plot_thematic_clusters(us_canales)"
   ]
  },
  {
   "attachments": {},
   "cell_type": "markdown",
   "metadata": {},
   "source": [
    "Visualizes the distribution of YouTube channels in the United States (US, country = \"US\") based on thematic clusters obtained from their video tags.\n",
    "\n",
    "They are obtained by applying TF-IDF to the tags (video_tags) of the videos on each channel.\n",
    "\n",
    "They are then clustered using the KMeans algorithm, which separates the channels into, for example, 5 groups."
   ]
  },
  {
   "cell_type": "code",
   "execution_count": null,
   "metadata": {},
   "outputs": [],
   "source": [
    "recommend_channels_us(data, us_canales, 0)"
   ]
  }
 ],
 "metadata": {
  "kernelspec": {
   "display_name": "bigdata",
   "language": "python",
   "name": "python3"
  },
  "language_info": {
   "codemirror_mode": {
    "name": "ipython",
    "version": 3
   },
   "file_extension": ".py",
   "mimetype": "text/x-python",
   "name": "python",
   "nbconvert_exporter": "python",
   "pygments_lexer": "ipython3",
   "version": "3.10.16"
  },
  "orig_nbformat": 4
 },
 "nbformat": 4,
 "nbformat_minor": 2
}
