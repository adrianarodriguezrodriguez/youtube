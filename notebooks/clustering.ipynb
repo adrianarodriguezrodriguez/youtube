{
 "cells": [
  {
   "cell_type": "code",
   "execution_count": null,
   "metadata": {},
   "outputs": [],
   "source": [
    "from src import plots, utils\n",
    "\n",
    "from sklearn.feature_extraction.text import TfidfVectorizer\n",
    "import pandas as pd\n",
    "import seaborn as sns\n",
    "import matplotlib.pyplot as plt\n",
    "from sklearn.cluster import KMeans\n",
    "from sklearn.metrics.pairwise import cosine_similarity\n",
    "from sklearn.metrics import silhouette_score\n",
    "import random"
   ]
  },
  {
   "cell_type": "code",
   "execution_count": null,
   "metadata": {},
   "outputs": [],
   "source": [
    "%run plots.py"
   ]
  },
  {
   "cell_type": "code",
   "execution_count": null,
   "metadata": {},
   "outputs": [],
   "source": [
    "%run utils.py"
   ]
  },
  {
   "cell_type": "code",
   "execution_count": null,
   "metadata": {},
   "outputs": [],
   "source": [
    "data = utils.initialize_data()\n",
    "\n",
    "# Calculate Sentiment Score\n",
    "data = utils.calculate_sentiment(data)\n",
    "\n",
    "data_df_tf = utils.vectorize_df(data)\n",
    "\n",
    "num_queries = 5\n",
    "\n",
    "features, labels = utils.clustering_with_neighbors(data_df_tf, data, user_sentiment=\"positive\", num_queries=num_queries)"
   ]
  },
  {
   "cell_type": "code",
   "execution_count": null,
   "metadata": {},
   "outputs": [],
   "source": [
    "# We compute the Silhouette Score and plot it\n",
    "silhouette_score = silhouette_score(features, labels)\n",
    "\n",
    "plots.sil_score_plot(silhouette_score, features, labels, num_queries)"
   ]
  },
  {
   "cell_type": "code",
   "execution_count": null,
   "metadata": {},
   "outputs": [],
   "source": [
    "# Aqui falta la grafica para visualizar los clusters"
   ]
  },
  {
   "cell_type": "code",
   "execution_count": null,
   "metadata": {},
   "outputs": [],
   "source": [
    "canales_cluster, tags_por_canal = utils.channel_based_cluster(data_df_tf)"
   ]
  },
  {
   "cell_type": "code",
   "execution_count": null,
   "metadata": {},
   "outputs": [],
   "source": [
    "plots.canales_clusters(canales_cluster)"
   ]
  },
  {
   "cell_type": "code",
   "execution_count": null,
   "metadata": {},
   "outputs": [],
   "source": [
    "plots.show_cluster_tags(canales_cluster, tags_por_canal)"
   ]
  },
  {
   "attachments": {},
   "cell_type": "markdown",
   "metadata": {},
   "source": [
    "Cluster 0: Sports-related videos with international creators like IShowSpeed and Squeezie, featuring some Arabic content.\n",
    "\n",
    "Cluster 1: Viral short videos focused on humor, TikTok trends, and general entertainment.\n",
    "\n",
    "Cluster 2: Spanish-language football content, mainly about Real Madrid and player Fede Valverde.\n",
    "\n",
    "Cluster 3: Minecraft and animation-themed gaming content, with multilingual influence including Arabic.\n",
    "\n",
    "Cluster 4: International movies and TV dramas, especially Nigerian films and popular \"natok\" series."
   ]
  },
  {
   "cell_type": "code",
   "execution_count": null,
   "metadata": {},
   "outputs": [],
   "source": [
    "utils.print_reco_target_cluster(canales_cluster, tags_por_canal, 0)"
   ]
  },
  {
   "attachments": {},
   "cell_type": "markdown",
   "metadata": {},
   "source": [
    "The system recommends channels that use similar tags in their videos.\n",
    "It's a content-based approach, using video tags as the channel description.\n",
    "\n",
    "This compares how similar two channels are based on their tags.Using TF-IDF that stands for \"Term Frequency - Inverse Document Frequency.\"\n",
    "\n",
    "It is used to weight the most important words in each channel.\n",
    "\n",
    "-If two channels use similar tags with similar frequencies, they will have a similarity close to 1.0.\n",
    "\n",
    "-If they share almost no tags, the similarity will be close to 0.0."
   ]
  }
 ],
 "metadata": {
  "kernelspec": {
   "display_name": "bigdata",
   "language": "python",
   "name": "python3"
  },
  "language_info": {
   "name": "python",
   "version": "3.10.16"
  },
  "orig_nbformat": 4
 },
 "nbformat": 4,
 "nbformat_minor": 2
}
